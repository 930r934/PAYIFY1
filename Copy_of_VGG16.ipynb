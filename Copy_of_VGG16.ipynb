{
  "nbformat": 4,
  "nbformat_minor": 0,
  "metadata": {
    "colab": {
      "name": "Copy of VGG16.ipynb",
      "provenance": [],
      "include_colab_link": true
    },
    "kernelspec": {
      "name": "python3",
      "display_name": "Python 3"
    },
    "accelerator": "GPU"
  },
  "cells": [
    {
      "cell_type": "markdown",
      "metadata": {
        "id": "view-in-github",
        "colab_type": "text"
      },
      "source": [
        "<a href=\"https://colab.research.google.com/github/930r934/PAYIFY1/blob/master/Copy_of_VGG16.ipynb\" target=\"_parent\"><img src=\"https://colab.research.google.com/assets/colab-badge.svg\" alt=\"Open In Colab\"/></a>"
      ]
    },
    {
      "cell_type": "code",
      "metadata": {
        "id": "-1370Kx-bDND",
        "outputId": "d13428bb-f518-43b8-a8ae-f71a9ae1d2e5",
        "colab": {
          "base_uri": "https://localhost:8080/"
        }
      },
      "source": [
        "from google.colab import drive\n",
        "drive.mount('/content/drive',force_remount=True)"
      ],
      "execution_count": 1,
      "outputs": [
        {
          "output_type": "stream",
          "text": [
            "Mounted at /content/drive\n"
          ],
          "name": "stdout"
        }
      ]
    },
    {
      "cell_type": "code",
      "metadata": {
        "id": "myScbZbkbIje"
      },
      "source": [
        "import numpy as np \n",
        "import pandas as pd \n",
        "import keras \n",
        "import tensorflow as tf\n",
        "from tqdm import tqdm\n",
        "%matplotlib inline\n",
        "import cv2\n",
        "import glob\n",
        "import os\n",
        "import matplotlib.pyplot as plt\n",
        "from sklearn.datasets import load_files\n",
        "from sklearn.preprocessing import LabelEncoder\n",
        "from keras.utils import to_categorical\n",
        "from keras.utils import np_utils\n",
        "from sklearn.model_selection import train_test_split"
      ],
      "execution_count": 2,
      "outputs": []
    },
    {
      "cell_type": "code",
      "metadata": {
        "id": "BVCnc_vQbLab",
        "outputId": "a60147ca-5c6f-4b64-bbef-ea9331582a4e",
        "colab": {
          "base_uri": "https://localhost:8080/"
        }
      },
      "source": [
        "dir = '/content/drive/My Drive/DATASET'\n",
        "\n",
        "def load_dataset(path):\n",
        "    data = load_files(path)\n",
        "    files = np.array(data['filenames'])\n",
        "    targets = np.array(data['target'])\n",
        "    target_labels = np.array(data['target_names'])\n",
        "    print(target_labels)\n",
        "    return files,targets,target_labels\n",
        "\n",
        "X,y,target_labels = load_dataset(dir)"
      ],
      "execution_count": 3,
      "outputs": [
        {
          "output_type": "stream",
          "text": [
            "['airplane' 'alarm clock' 'angel' 'ant' 'apple' 'arm' 'armchair' 'ashtray'\n",
            " 'axe' 'backpack' 'banana' 'barn' 'baseball bat' 'basket' 'bathtub'\n",
            " 'bear (animal)' 'bed' 'bee' 'beer-mug' 'bell' 'bench' 'bicycle'\n",
            " 'binoculars' 'blimp' 'book' 'bookshelf' 'boomerang' 'bottle opener'\n",
            " 'bowl' 'brain' 'bread' 'bridge' 'bulldozer' 'bus' 'bush' 'butterfly'\n",
            " 'cabinet' 'cactus' 'cake' 'calculator' 'camel' 'camera' 'candle' 'cannon'\n",
            " 'canoe' 'car (sedan)' 'carrot' 'castle' 'cat' 'cell phone' 'chair'\n",
            " 'chandelier' 'church' 'cigarette' 'cloud' 'comb' 'computer monitor'\n",
            " 'computer-mouse' 'couch' 'cow' 'crab' 'crane (machine)' 'crocodile'\n",
            " 'crown' 'cup' 'diamond' 'dog' 'dolphin' 'donut' 'door' 'door handle'\n",
            " 'dragon' 'duck' 'ear' 'elephant' 'envelope' 'eye' 'eyeglasses' 'face'\n",
            " 'fan']\n"
          ],
          "name": "stdout"
        }
      ]
    },
    {
      "cell_type": "code",
      "metadata": {
        "id": "9XYNR099bNnf",
        "outputId": "a01ef218-c339-452b-8997-dfcb0120e67b",
        "colab": {
          "base_uri": "https://localhost:8080/"
        }
      },
      "source": [
        "classes = len(np.unique(y))\n",
        "from keras.utils import np_utils\n",
        "y= np_utils.to_categorical(y,classes)\n",
        "y[0] "
      ],
      "execution_count": 4,
      "outputs": [
        {
          "output_type": "execute_result",
          "data": {
            "text/plain": [
              "array([0., 0., 0., 0., 0., 0., 0., 0., 0., 0., 0., 0., 0., 0., 0., 0., 0.,\n",
              "       0., 0., 0., 0., 0., 0., 0., 0., 0., 0., 0., 0., 0., 0., 0., 0., 0.,\n",
              "       0., 0., 0., 0., 0., 0., 0., 0., 0., 0., 0., 0., 0., 0., 0., 0., 0.,\n",
              "       0., 0., 0., 0., 0., 0., 0., 0., 0., 0., 0., 0., 0., 0., 0., 0., 0.,\n",
              "       0., 0., 0., 0., 0., 0., 0., 0., 0., 0., 1., 0.], dtype=float32)"
            ]
          },
          "metadata": {
            "tags": []
          },
          "execution_count": 4
        }
      ]
    },
    {
      "cell_type": "code",
      "metadata": {
        "id": "oGJ64mvVba2G",
        "outputId": "1ee2d8a3-d2d1-4ffc-d521-6dde74a4c844",
        "colab": {
          "base_uri": "https://localhost:8080/"
        }
      },
      "source": [
        "from sklearn.model_selection import train_test_split\n",
        "X_train,x_val,Y_train,y_val = train_test_split(X,y,test_size=0.2,random_state=42)\n",
        "\n",
        "X_train,x_test,Y_train,y_test = train_test_split(X_train,Y_train,test_size=0.2,random_state=42)\n",
        "X_train.shape,Y_train.shape,x_val.shape,y_val.shape,x_test.shape,y_test.shape\n",
        "\n",
        "print(len(X_train))\n",
        "print(len(x_val))\n",
        "print(len(x_test))"
      ],
      "execution_count": 5,
      "outputs": [
        {
          "output_type": "stream",
          "text": [
            "4096\n",
            "1280\n",
            "1024\n"
          ],
          "name": "stdout"
        }
      ]
    },
    {
      "cell_type": "code",
      "metadata": {
        "id": "_y1140TwsJpq",
        "outputId": "a380bbfe-6c77-421d-de46-54ee335a65fd",
        "colab": {
          "base_uri": "https://localhost:8080/"
        }
      },
      "source": [
        "from keras.preprocessing.image import array_to_img, img_to_array, load_img\n",
        "import numpy as np\n",
        "import cv2\n",
        "default_image_size=tuple((150,150))\n",
        "def convert_image_to_array(files):\n",
        "    images_as_array=[]\n",
        "    for file in files:\n",
        "         # Convert to Numpy Array\n",
        "        image=cv2.imread(file)\n",
        "        if image is not None :\n",
        "          image=cv2.resize(image, default_image_size) \n",
        "          images_as_array.append(img_to_array(image))\n",
        "    return images_as_array\n",
        "\n",
        "X_train = np.array(convert_image_to_array(X_train))\n",
        "print('Size of Training set: ',X_train.shape)\n",
        "\n",
        "x_val = np.array(convert_image_to_array(x_val))\n",
        "print('Size of Validation set: ',x_val.shape)\n",
        "\n",
        "x_test = np.array(convert_image_to_array(x_test))\n",
        "print('Size of Test set: ',x_test.shape)"
      ],
      "execution_count": 6,
      "outputs": [
        {
          "output_type": "stream",
          "text": [
            "Size of Training set:  (4096, 150, 150, 3)\n",
            "Size of Validation set:  (1280, 150, 150, 3)\n",
            "Size of Test set:  (1024, 150, 150, 3)\n"
          ],
          "name": "stdout"
        }
      ]
    },
    {
      "cell_type": "code",
      "metadata": {
        "id": "LqcIvoJJsNY7",
        "outputId": "ff6842f5-adf6-4a26-b36b-00728efacf74",
        "colab": {
          "base_uri": "https://localhost:8080/"
        }
      },
      "source": [
        "X_train = X_train.astype('float32')/255\n",
        "x_val = x_val.astype('float32')/255\n",
        "x_test = x_test.astype('float32')/255\n",
        "X_train[0]"
      ],
      "execution_count": 7,
      "outputs": [
        {
          "output_type": "execute_result",
          "data": {
            "text/plain": [
              "array([[[1., 1., 1.],\n",
              "        [1., 1., 1.],\n",
              "        [1., 1., 1.],\n",
              "        ...,\n",
              "        [1., 1., 1.],\n",
              "        [1., 1., 1.],\n",
              "        [1., 1., 1.]],\n",
              "\n",
              "       [[1., 1., 1.],\n",
              "        [1., 1., 1.],\n",
              "        [1., 1., 1.],\n",
              "        ...,\n",
              "        [1., 1., 1.],\n",
              "        [1., 1., 1.],\n",
              "        [1., 1., 1.]],\n",
              "\n",
              "       [[1., 1., 1.],\n",
              "        [1., 1., 1.],\n",
              "        [1., 1., 1.],\n",
              "        ...,\n",
              "        [1., 1., 1.],\n",
              "        [1., 1., 1.],\n",
              "        [1., 1., 1.]],\n",
              "\n",
              "       ...,\n",
              "\n",
              "       [[1., 1., 1.],\n",
              "        [1., 1., 1.],\n",
              "        [1., 1., 1.],\n",
              "        ...,\n",
              "        [1., 1., 1.],\n",
              "        [1., 1., 1.],\n",
              "        [1., 1., 1.]],\n",
              "\n",
              "       [[1., 1., 1.],\n",
              "        [1., 1., 1.],\n",
              "        [1., 1., 1.],\n",
              "        ...,\n",
              "        [1., 1., 1.],\n",
              "        [1., 1., 1.],\n",
              "        [1., 1., 1.]],\n",
              "\n",
              "       [[1., 1., 1.],\n",
              "        [1., 1., 1.],\n",
              "        [1., 1., 1.],\n",
              "        ...,\n",
              "        [1., 1., 1.],\n",
              "        [1., 1., 1.],\n",
              "        [1., 1., 1.]]], dtype=float32)"
            ]
          },
          "metadata": {
            "tags": []
          },
          "execution_count": 7
        }
      ]
    },
    {
      "cell_type": "code",
      "metadata": {
        "id": "BMm1PgZ0bdhK"
      },
      "source": [
        "from keras.preprocessing.image import ImageDataGenerator\n",
        "from keras.utils import to_categorical\n",
        "from keras.layers import Dense,Dropout,Flatten,Conv2D,MaxPool2D,BatchNormalization\n",
        "from keras.models import Sequential\n",
        "from keras.losses import categorical_crossentropy\n",
        "from keras.optimizers import Adam\n",
        "imagegen = ImageDataGenerator(featurewise_center=False,\n",
        "                             samplewise_center=False,\n",
        "                             featurewise_std_normalization=False,\n",
        "                             samplewise_std_normalization=False,\n",
        "                            rotation_range=60,\n",
        "                              zoom_range=0.1,\n",
        "                              width_shift_range=0.1,\n",
        "                              height_shift_range=0.1,\n",
        "                              shear_range=0.1,\n",
        "                              fill_mode='reflect')\n",
        "imagegen.fit(X_train)"
      ],
      "execution_count": 8,
      "outputs": []
    },
    {
      "cell_type": "code",
      "metadata": {
        "id": "52qoN9sVcSgo",
        "outputId": "e01ca2b1-f11d-4569-c843-a7392e9468f1",
        "colab": {
          "base_uri": "https://localhost:8080/"
        }
      },
      "source": [
        "from tensorflow.keras.applications.vgg16 import VGG16\n",
        "from tensorflow.keras import Model, layers\n",
        "\n",
        "VGG_model = VGG16(input_shape = (150, 150, 3),pooling='avg',include_top=False, weights=\"imagenet\")\n",
        "#for layer in pre_trained_model.layers:\n",
        " # layer.trainable = False\n",
        "VGG_model.summary()\n",
        "\n",
        "#last_layer = pre_trained_model.get_layer('mixed7')\n",
        "#print('last layer output shape: ', last_layer.output_shape)\n",
        "#last_output = last_layer.output\n",
        "\n",
        "from keras import Model\n",
        "layer_name = 'block5_pool'\n",
        "my_model = Model(inputs=VGG_model.input,outputs=VGG_model.get_layer(layer_name).output)\n",
        "my_model.summary()"
      ],
      "execution_count": 9,
      "outputs": [
        {
          "output_type": "stream",
          "text": [
            "Downloading data from https://storage.googleapis.com/tensorflow/keras-applications/vgg16/vgg16_weights_tf_dim_ordering_tf_kernels_notop.h5\n",
            "58892288/58889256 [==============================] - 0s 0us/step\n",
            "Model: \"vgg16\"\n",
            "_________________________________________________________________\n",
            "Layer (type)                 Output Shape              Param #   \n",
            "=================================================================\n",
            "input_1 (InputLayer)         [(None, 150, 150, 3)]     0         \n",
            "_________________________________________________________________\n",
            "block1_conv1 (Conv2D)        (None, 150, 150, 64)      1792      \n",
            "_________________________________________________________________\n",
            "block1_conv2 (Conv2D)        (None, 150, 150, 64)      36928     \n",
            "_________________________________________________________________\n",
            "block1_pool (MaxPooling2D)   (None, 75, 75, 64)        0         \n",
            "_________________________________________________________________\n",
            "block2_conv1 (Conv2D)        (None, 75, 75, 128)       73856     \n",
            "_________________________________________________________________\n",
            "block2_conv2 (Conv2D)        (None, 75, 75, 128)       147584    \n",
            "_________________________________________________________________\n",
            "block2_pool (MaxPooling2D)   (None, 37, 37, 128)       0         \n",
            "_________________________________________________________________\n",
            "block3_conv1 (Conv2D)        (None, 37, 37, 256)       295168    \n",
            "_________________________________________________________________\n",
            "block3_conv2 (Conv2D)        (None, 37, 37, 256)       590080    \n",
            "_________________________________________________________________\n",
            "block3_conv3 (Conv2D)        (None, 37, 37, 256)       590080    \n",
            "_________________________________________________________________\n",
            "block3_pool (MaxPooling2D)   (None, 18, 18, 256)       0         \n",
            "_________________________________________________________________\n",
            "block4_conv1 (Conv2D)        (None, 18, 18, 512)       1180160   \n",
            "_________________________________________________________________\n",
            "block4_conv2 (Conv2D)        (None, 18, 18, 512)       2359808   \n",
            "_________________________________________________________________\n",
            "block4_conv3 (Conv2D)        (None, 18, 18, 512)       2359808   \n",
            "_________________________________________________________________\n",
            "block4_pool (MaxPooling2D)   (None, 9, 9, 512)         0         \n",
            "_________________________________________________________________\n",
            "block5_conv1 (Conv2D)        (None, 9, 9, 512)         2359808   \n",
            "_________________________________________________________________\n",
            "block5_conv2 (Conv2D)        (None, 9, 9, 512)         2359808   \n",
            "_________________________________________________________________\n",
            "block5_conv3 (Conv2D)        (None, 9, 9, 512)         2359808   \n",
            "_________________________________________________________________\n",
            "block5_pool (MaxPooling2D)   (None, 4, 4, 512)         0         \n",
            "_________________________________________________________________\n",
            "global_average_pooling2d (Gl (None, 512)               0         \n",
            "=================================================================\n",
            "Total params: 14,714,688\n",
            "Trainable params: 14,714,688\n",
            "Non-trainable params: 0\n",
            "_________________________________________________________________\n",
            "Model: \"functional_1\"\n",
            "_________________________________________________________________\n",
            "Layer (type)                 Output Shape              Param #   \n",
            "=================================================================\n",
            "input_1 (InputLayer)         [(None, 150, 150, 3)]     0         \n",
            "_________________________________________________________________\n",
            "block1_conv1 (Conv2D)        (None, 150, 150, 64)      1792      \n",
            "_________________________________________________________________\n",
            "block1_conv2 (Conv2D)        (None, 150, 150, 64)      36928     \n",
            "_________________________________________________________________\n",
            "block1_pool (MaxPooling2D)   (None, 75, 75, 64)        0         \n",
            "_________________________________________________________________\n",
            "block2_conv1 (Conv2D)        (None, 75, 75, 128)       73856     \n",
            "_________________________________________________________________\n",
            "block2_conv2 (Conv2D)        (None, 75, 75, 128)       147584    \n",
            "_________________________________________________________________\n",
            "block2_pool (MaxPooling2D)   (None, 37, 37, 128)       0         \n",
            "_________________________________________________________________\n",
            "block3_conv1 (Conv2D)        (None, 37, 37, 256)       295168    \n",
            "_________________________________________________________________\n",
            "block3_conv2 (Conv2D)        (None, 37, 37, 256)       590080    \n",
            "_________________________________________________________________\n",
            "block3_conv3 (Conv2D)        (None, 37, 37, 256)       590080    \n",
            "_________________________________________________________________\n",
            "block3_pool (MaxPooling2D)   (None, 18, 18, 256)       0         \n",
            "_________________________________________________________________\n",
            "block4_conv1 (Conv2D)        (None, 18, 18, 512)       1180160   \n",
            "_________________________________________________________________\n",
            "block4_conv2 (Conv2D)        (None, 18, 18, 512)       2359808   \n",
            "_________________________________________________________________\n",
            "block4_conv3 (Conv2D)        (None, 18, 18, 512)       2359808   \n",
            "_________________________________________________________________\n",
            "block4_pool (MaxPooling2D)   (None, 9, 9, 512)         0         \n",
            "_________________________________________________________________\n",
            "block5_conv1 (Conv2D)        (None, 9, 9, 512)         2359808   \n",
            "_________________________________________________________________\n",
            "block5_conv2 (Conv2D)        (None, 9, 9, 512)         2359808   \n",
            "_________________________________________________________________\n",
            "block5_conv3 (Conv2D)        (None, 9, 9, 512)         2359808   \n",
            "_________________________________________________________________\n",
            "block5_pool (MaxPooling2D)   (None, 4, 4, 512)         0         \n",
            "=================================================================\n",
            "Total params: 14,714,688\n",
            "Trainable params: 14,714,688\n",
            "Non-trainable params: 0\n",
            "_________________________________________________________________\n"
          ],
          "name": "stdout"
        }
      ]
    },
    {
      "cell_type": "code",
      "metadata": {
        "id": "IoLlBEs_cTSp"
      },
      "source": [
        "from keras import models         \n",
        "model = models.Sequential()\n",
        "model.add(my_model)\n",
        "from keras.layers import Dense, Conv2D, MaxPooling2D, BatchNormalization, GlobalAveragePooling2D\n",
        "model.add(Conv2D(128,(3,3),activation='relu',padding='same'))\n",
        "model.add(MaxPooling2D((2,2),padding='same'))\n",
        "model.add(Conv2D(256,(3,3),activation='relu',padding='same'))\n",
        "model.add(MaxPooling2D((2,2),padding='same'))\n",
        "model.add(GlobalAveragePooling2D())\n",
        "model.add(Dense(64,activation='relu'))\n",
        "model.add(BatchNormalization())\n",
        "model.add(Dense(80,activation='softmax'))\n",
        "model.layers[5].trainable = False\n",
        "\n",
        "#model = Model( pre_trained_model.input, x) \n",
        "#model.summary()"
      ],
      "execution_count": 10,
      "outputs": []
    },
    {
      "cell_type": "code",
      "metadata": {
        "id": "09beeIlKcYbV",
        "outputId": "216b5707-c5ab-437a-a3b7-6ff789d5d46f",
        "colab": {
          "base_uri": "https://localhost:8080/"
        }
      },
      "source": [
        "\n",
        "from tensorflow.keras.optimizers import Adam\n",
        "\n",
        "from tensorflow.keras.optimizers import RMSprop\n",
        "model.compile(loss='categorical_crossentropy',\n",
        "              optimizer=Adam(lr=0.001),\n",
        "              metrics=['accuracy'])\n",
        "print('Compilation Done')"
      ],
      "execution_count": 11,
      "outputs": [
        {
          "output_type": "stream",
          "text": [
            "Compilation Done\n"
          ],
          "name": "stdout"
        }
      ]
    },
    {
      "cell_type": "code",
      "metadata": {
        "id": "zzlsQYlBcE1x",
        "outputId": "81454c69-0fc1-4772-a4d4-a83fcf022ccc",
        "colab": {
          "base_uri": "https://localhost:8080/"
        }
      },
      "source": [
        "from tensorflow.keras.callbacks import ModelCheckpoint,ReduceLROnPlateau\n",
        "batch_size = 32\n",
        "\n",
        "checkpoint = ModelCheckpoint(filepath = 'cnn3.hdf5',monitor='val_accuracy' ,verbose = 1, save_best_only = True)\n",
        "reduce_lr=ReduceLROnPlateau(monitor='val_loss',factor=0.1,patience=2,min_lr=0.00001,mode='auto')\n",
        "model_dropout = model.fit_generator(imagegen.flow(X_train,Y_train, batch_size=32),epochs=60,callbacks=[checkpoint,reduce_lr],verbose=2,\n",
        "                          validation_data=imagegen.flow(x_val, y_val,batch_size=32),shuffle=True,steps_per_epoch=X_train.shape[0] // batch_size)"
      ],
      "execution_count": 19,
      "outputs": [
        {
          "output_type": "stream",
          "text": [
            "Epoch 1/60\n",
            "WARNING:tensorflow:Callbacks method `on_train_batch_end` is slow compared to the batch time (batch time: 0.0662s vs `on_train_batch_end` time: 0.1312s). Check your callbacks.\n",
            "\n",
            "Epoch 00001: val_accuracy improved from -inf to 0.07422, saving model to cnn3.hdf5\n",
            "128/128 - 36s - loss: 3.7463 - accuracy: 0.0972 - val_loss: 3.8272 - val_accuracy: 0.0742\n",
            "Epoch 2/60\n",
            "\n",
            "Epoch 00002: val_accuracy did not improve from 0.07422\n",
            "128/128 - 35s - loss: 3.7432 - accuracy: 0.0986 - val_loss: 3.8617 - val_accuracy: 0.0734\n",
            "Epoch 3/60\n",
            "\n",
            "Epoch 00003: val_accuracy improved from 0.07422 to 0.07891, saving model to cnn3.hdf5\n",
            "128/128 - 36s - loss: 3.7430 - accuracy: 0.0989 - val_loss: 3.8030 - val_accuracy: 0.0789\n",
            "Epoch 4/60\n",
            "\n",
            "Epoch 00004: val_accuracy improved from 0.07891 to 0.08438, saving model to cnn3.hdf5\n",
            "128/128 - 36s - loss: 3.7502 - accuracy: 0.0994 - val_loss: 3.8386 - val_accuracy: 0.0844\n",
            "Epoch 5/60\n",
            "\n",
            "Epoch 00005: val_accuracy did not improve from 0.08438\n",
            "128/128 - 35s - loss: 3.7382 - accuracy: 0.0962 - val_loss: 3.7918 - val_accuracy: 0.0828\n",
            "Epoch 6/60\n",
            "\n",
            "Epoch 00006: val_accuracy did not improve from 0.08438\n",
            "128/128 - 35s - loss: 3.7419 - accuracy: 0.0950 - val_loss: 3.8733 - val_accuracy: 0.0711\n",
            "Epoch 7/60\n",
            "\n",
            "Epoch 00007: val_accuracy did not improve from 0.08438\n",
            "128/128 - 35s - loss: 3.7430 - accuracy: 0.0955 - val_loss: 3.8087 - val_accuracy: 0.0758\n",
            "Epoch 8/60\n",
            "\n",
            "Epoch 00008: val_accuracy did not improve from 0.08438\n",
            "128/128 - 35s - loss: 3.7383 - accuracy: 0.0986 - val_loss: 3.8040 - val_accuracy: 0.0789\n",
            "Epoch 9/60\n",
            "\n",
            "Epoch 00009: val_accuracy did not improve from 0.08438\n",
            "128/128 - 34s - loss: 3.7358 - accuracy: 0.1023 - val_loss: 3.8239 - val_accuracy: 0.0750\n",
            "Epoch 10/60\n",
            "\n",
            "Epoch 00010: val_accuracy did not improve from 0.08438\n",
            "128/128 - 34s - loss: 3.7337 - accuracy: 0.0969 - val_loss: 3.8251 - val_accuracy: 0.0758\n",
            "Epoch 11/60\n",
            "\n",
            "Epoch 00011: val_accuracy did not improve from 0.08438\n",
            "128/128 - 34s - loss: 3.7331 - accuracy: 0.0984 - val_loss: 3.7973 - val_accuracy: 0.0703\n",
            "Epoch 12/60\n",
            "\n",
            "Epoch 00012: val_accuracy improved from 0.08438 to 0.08594, saving model to cnn3.hdf5\n",
            "128/128 - 35s - loss: 3.7296 - accuracy: 0.1016 - val_loss: 3.8026 - val_accuracy: 0.0859\n",
            "Epoch 13/60\n",
            "\n",
            "Epoch 00013: val_accuracy did not improve from 0.08594\n",
            "128/128 - 34s - loss: 3.7453 - accuracy: 0.1006 - val_loss: 3.8578 - val_accuracy: 0.0789\n",
            "Epoch 14/60\n",
            "\n",
            "Epoch 00014: val_accuracy did not improve from 0.08594\n",
            "128/128 - 34s - loss: 3.7323 - accuracy: 0.1008 - val_loss: 3.8598 - val_accuracy: 0.0727\n",
            "Epoch 15/60\n",
            "\n",
            "Epoch 00015: val_accuracy did not improve from 0.08594\n",
            "128/128 - 34s - loss: 3.7290 - accuracy: 0.0964 - val_loss: 3.8091 - val_accuracy: 0.0719\n",
            "Epoch 16/60\n",
            "\n",
            "Epoch 00016: val_accuracy did not improve from 0.08594\n",
            "128/128 - 34s - loss: 3.7337 - accuracy: 0.0950 - val_loss: 3.9572 - val_accuracy: 0.0633\n",
            "Epoch 17/60\n",
            "\n",
            "Epoch 00017: val_accuracy did not improve from 0.08594\n",
            "128/128 - 34s - loss: 3.7323 - accuracy: 0.0969 - val_loss: 3.8095 - val_accuracy: 0.0695\n",
            "Epoch 18/60\n",
            "\n",
            "Epoch 00018: val_accuracy did not improve from 0.08594\n",
            "128/128 - 34s - loss: 3.7245 - accuracy: 0.0991 - val_loss: 3.8742 - val_accuracy: 0.0719\n",
            "Epoch 19/60\n",
            "\n",
            "Epoch 00019: val_accuracy did not improve from 0.08594\n",
            "128/128 - 34s - loss: 3.7289 - accuracy: 0.0962 - val_loss: 3.8113 - val_accuracy: 0.0758\n",
            "Epoch 20/60\n",
            "\n",
            "Epoch 00020: val_accuracy did not improve from 0.08594\n",
            "128/128 - 34s - loss: 3.7273 - accuracy: 0.1060 - val_loss: 3.8614 - val_accuracy: 0.0727\n",
            "Epoch 21/60\n",
            "\n",
            "Epoch 00021: val_accuracy did not improve from 0.08594\n",
            "128/128 - 34s - loss: 3.7285 - accuracy: 0.0967 - val_loss: 3.8031 - val_accuracy: 0.0820\n",
            "Epoch 22/60\n",
            "\n",
            "Epoch 00022: val_accuracy did not improve from 0.08594\n",
            "128/128 - 34s - loss: 3.7283 - accuracy: 0.0928 - val_loss: 3.8487 - val_accuracy: 0.0719\n",
            "Epoch 23/60\n",
            "\n",
            "Epoch 00023: val_accuracy did not improve from 0.08594\n",
            "128/128 - 34s - loss: 3.7244 - accuracy: 0.0962 - val_loss: 4.0270 - val_accuracy: 0.0523\n",
            "Epoch 24/60\n",
            "\n",
            "Epoch 00024: val_accuracy did not improve from 0.08594\n",
            "128/128 - 34s - loss: 3.7147 - accuracy: 0.1040 - val_loss: 3.7915 - val_accuracy: 0.0805\n",
            "Epoch 25/60\n",
            "\n",
            "Epoch 00025: val_accuracy did not improve from 0.08594\n",
            "128/128 - 34s - loss: 3.7264 - accuracy: 0.0984 - val_loss: 3.8645 - val_accuracy: 0.0695\n",
            "Epoch 26/60\n",
            "\n",
            "Epoch 00026: val_accuracy did not improve from 0.08594\n",
            "128/128 - 34s - loss: 3.7203 - accuracy: 0.1052 - val_loss: 3.9601 - val_accuracy: 0.0648\n",
            "Epoch 27/60\n",
            "\n",
            "Epoch 00027: val_accuracy did not improve from 0.08594\n",
            "128/128 - 34s - loss: 3.7222 - accuracy: 0.0986 - val_loss: 3.9654 - val_accuracy: 0.0531\n",
            "Epoch 28/60\n",
            "\n",
            "Epoch 00028: val_accuracy did not improve from 0.08594\n",
            "128/128 - 34s - loss: 3.7091 - accuracy: 0.1030 - val_loss: 3.7837 - val_accuracy: 0.0820\n",
            "Epoch 29/60\n",
            "\n",
            "Epoch 00029: val_accuracy did not improve from 0.08594\n",
            "128/128 - 34s - loss: 3.7079 - accuracy: 0.1023 - val_loss: 4.0332 - val_accuracy: 0.0484\n",
            "Epoch 30/60\n",
            "\n",
            "Epoch 00030: val_accuracy did not improve from 0.08594\n",
            "128/128 - 34s - loss: 3.7145 - accuracy: 0.1033 - val_loss: 3.7823 - val_accuracy: 0.0844\n",
            "Epoch 31/60\n",
            "\n",
            "Epoch 00031: val_accuracy did not improve from 0.08594\n",
            "128/128 - 34s - loss: 3.7026 - accuracy: 0.1040 - val_loss: 3.8215 - val_accuracy: 0.0781\n",
            "Epoch 32/60\n",
            "\n",
            "Epoch 00032: val_accuracy did not improve from 0.08594\n",
            "128/128 - 34s - loss: 3.7126 - accuracy: 0.0969 - val_loss: 3.9724 - val_accuracy: 0.0578\n",
            "Epoch 33/60\n",
            "\n",
            "Epoch 00033: val_accuracy did not improve from 0.08594\n",
            "128/128 - 34s - loss: 3.7186 - accuracy: 0.1028 - val_loss: 3.7855 - val_accuracy: 0.0766\n",
            "Epoch 34/60\n",
            "\n",
            "Epoch 00034: val_accuracy did not improve from 0.08594\n",
            "128/128 - 34s - loss: 3.7101 - accuracy: 0.1003 - val_loss: 3.7871 - val_accuracy: 0.0797\n",
            "Epoch 35/60\n",
            "\n",
            "Epoch 00035: val_accuracy did not improve from 0.08594\n",
            "128/128 - 34s - loss: 3.7056 - accuracy: 0.1064 - val_loss: 4.0163 - val_accuracy: 0.0516\n",
            "Epoch 36/60\n",
            "\n",
            "Epoch 00036: val_accuracy did not improve from 0.08594\n",
            "128/128 - 34s - loss: 3.7068 - accuracy: 0.0991 - val_loss: 3.7908 - val_accuracy: 0.0781\n",
            "Epoch 37/60\n",
            "\n",
            "Epoch 00037: val_accuracy did not improve from 0.08594\n",
            "128/128 - 34s - loss: 3.7067 - accuracy: 0.1033 - val_loss: 3.8366 - val_accuracy: 0.0742\n",
            "Epoch 38/60\n",
            "\n",
            "Epoch 00038: val_accuracy improved from 0.08594 to 0.08750, saving model to cnn3.hdf5\n",
            "128/128 - 35s - loss: 3.7148 - accuracy: 0.1028 - val_loss: 3.7838 - val_accuracy: 0.0875\n",
            "Epoch 39/60\n",
            "\n",
            "Epoch 00039: val_accuracy did not improve from 0.08750\n",
            "128/128 - 34s - loss: 3.7047 - accuracy: 0.1062 - val_loss: 3.7841 - val_accuracy: 0.0875\n",
            "Epoch 40/60\n",
            "\n",
            "Epoch 00040: val_accuracy did not improve from 0.08750\n",
            "128/128 - 34s - loss: 3.7024 - accuracy: 0.1042 - val_loss: 3.7595 - val_accuracy: 0.0805\n",
            "Epoch 41/60\n",
            "\n",
            "Epoch 00041: val_accuracy did not improve from 0.08750\n",
            "128/128 - 34s - loss: 3.6945 - accuracy: 0.1118 - val_loss: 3.8058 - val_accuracy: 0.0727\n",
            "Epoch 42/60\n",
            "\n",
            "Epoch 00042: val_accuracy did not improve from 0.08750\n",
            "128/128 - 34s - loss: 3.7003 - accuracy: 0.0991 - val_loss: 3.7877 - val_accuracy: 0.0852\n",
            "Epoch 43/60\n",
            "\n",
            "Epoch 00043: val_accuracy did not improve from 0.08750\n",
            "128/128 - 34s - loss: 3.7001 - accuracy: 0.1064 - val_loss: 4.6262 - val_accuracy: 0.0758\n",
            "Epoch 44/60\n",
            "\n",
            "Epoch 00044: val_accuracy did not improve from 0.08750\n",
            "128/128 - 34s - loss: 3.6939 - accuracy: 0.1089 - val_loss: 3.8103 - val_accuracy: 0.0852\n",
            "Epoch 45/60\n",
            "\n",
            "Epoch 00045: val_accuracy did not improve from 0.08750\n",
            "128/128 - 35s - loss: 3.6959 - accuracy: 0.1104 - val_loss: 3.7880 - val_accuracy: 0.0727\n",
            "Epoch 46/60\n",
            "\n",
            "Epoch 00046: val_accuracy did not improve from 0.08750\n",
            "128/128 - 34s - loss: 3.6978 - accuracy: 0.1008 - val_loss: 3.8914 - val_accuracy: 0.0617\n",
            "Epoch 47/60\n",
            "\n",
            "Epoch 00047: val_accuracy did not improve from 0.08750\n",
            "128/128 - 35s - loss: 3.6849 - accuracy: 0.1035 - val_loss: 3.9246 - val_accuracy: 0.0609\n",
            "Epoch 48/60\n",
            "\n",
            "Epoch 00048: val_accuracy did not improve from 0.08750\n",
            "128/128 - 35s - loss: 3.6865 - accuracy: 0.1121 - val_loss: 3.7846 - val_accuracy: 0.0805\n",
            "Epoch 49/60\n",
            "\n",
            "Epoch 00049: val_accuracy did not improve from 0.08750\n",
            "128/128 - 35s - loss: 3.6857 - accuracy: 0.1042 - val_loss: 3.8838 - val_accuracy: 0.0672\n",
            "Epoch 50/60\n",
            "\n",
            "Epoch 00050: val_accuracy improved from 0.08750 to 0.09297, saving model to cnn3.hdf5\n",
            "128/128 - 35s - loss: 3.6916 - accuracy: 0.1060 - val_loss: 3.7430 - val_accuracy: 0.0930\n",
            "Epoch 51/60\n",
            "\n",
            "Epoch 00051: val_accuracy did not improve from 0.09297\n",
            "128/128 - 35s - loss: 3.6890 - accuracy: 0.1023 - val_loss: 3.7804 - val_accuracy: 0.0742\n",
            "Epoch 52/60\n",
            "\n",
            "Epoch 00052: val_accuracy did not improve from 0.09297\n",
            "128/128 - 34s - loss: 3.6883 - accuracy: 0.1069 - val_loss: 3.8154 - val_accuracy: 0.0672\n",
            "Epoch 53/60\n",
            "\n",
            "Epoch 00053: val_accuracy did not improve from 0.09297\n",
            "128/128 - 34s - loss: 3.6876 - accuracy: 0.1038 - val_loss: 3.7384 - val_accuracy: 0.0844\n",
            "Epoch 54/60\n",
            "\n",
            "Epoch 00054: val_accuracy did not improve from 0.09297\n",
            "128/128 - 34s - loss: 3.6929 - accuracy: 0.1123 - val_loss: 3.7852 - val_accuracy: 0.0781\n",
            "Epoch 55/60\n",
            "\n",
            "Epoch 00055: val_accuracy did not improve from 0.09297\n",
            "128/128 - 34s - loss: 3.6917 - accuracy: 0.1099 - val_loss: 3.7710 - val_accuracy: 0.0781\n",
            "Epoch 56/60\n",
            "\n",
            "Epoch 00056: val_accuracy did not improve from 0.09297\n",
            "128/128 - 34s - loss: 3.6861 - accuracy: 0.1101 - val_loss: 3.7437 - val_accuracy: 0.0812\n",
            "Epoch 57/60\n",
            "\n",
            "Epoch 00057: val_accuracy did not improve from 0.09297\n",
            "128/128 - 34s - loss: 3.6891 - accuracy: 0.1084 - val_loss: 3.7745 - val_accuracy: 0.0812\n",
            "Epoch 58/60\n",
            "\n",
            "Epoch 00058: val_accuracy did not improve from 0.09297\n",
            "128/128 - 34s - loss: 3.6791 - accuracy: 0.1074 - val_loss: 3.7687 - val_accuracy: 0.0883\n",
            "Epoch 59/60\n",
            "\n",
            "Epoch 00059: val_accuracy did not improve from 0.09297\n",
            "128/128 - 34s - loss: 3.6781 - accuracy: 0.1123 - val_loss: 3.7817 - val_accuracy: 0.0852\n",
            "Epoch 60/60\n",
            "\n",
            "Epoch 00060: val_accuracy did not improve from 0.09297\n",
            "128/128 - 34s - loss: 3.6773 - accuracy: 0.1216 - val_loss: 3.7935 - val_accuracy: 0.0750\n"
          ],
          "name": "stdout"
        }
      ]
    },
    {
      "cell_type": "code",
      "metadata": {
        "id": "bwAG_mDOcItQ"
      },
      "source": [
        "model.load_weights('cnn3.hdf5')"
      ],
      "execution_count": 13,
      "outputs": []
    },
    {
      "cell_type": "code",
      "metadata": {
        "id": "rtP0ZoMKchPF",
        "outputId": "6f324ca3-58ad-4feb-f8ef-02043f66cbed",
        "colab": {
          "base_uri": "https://localhost:8080/"
        }
      },
      "source": [
        "# evaluate and print test accuracy\n",
        "score = model.evaluate(x_test, y_test,batch_size=32,verbose=0)\n",
        "print('\\n', 'Test Loss','Test accuracy:', score[0],score[1])\n",
        "#accuracy !!"
      ],
      "execution_count": 14,
      "outputs": [
        {
          "output_type": "stream",
          "text": [
            "\n",
            " Test Loss Test accuracy: 4.201958656311035 0.048828125\n"
          ],
          "name": "stdout"
        }
      ]
    },
    {
      "cell_type": "code",
      "metadata": {
        "id": "IZClxLtYtXaK",
        "outputId": "230f9031-bf19-4a31-d4a7-a07fc3a2f5ab",
        "colab": {
          "base_uri": "https://localhost:8080/"
        }
      },
      "source": [
        "y_pred = model.predict(x_test)\n",
        "y_pred = np.argmax(y_pred,axis=1).astype(int)\n",
        "\n",
        "y_true = np.argmax(y_test,axis = 1).astype(int)\n",
        "corr=[]\n",
        "incorr=[]\n",
        "corr_count=0\n",
        "incorr_count=0\n",
        "\n",
        "for i in range(len(y_test)):\n",
        "   # checking for correct predictions\n",
        "    if(y_pred[i]==y_true[i]):\n",
        "        corr.append(i)\n",
        "        corr_count+=1\n",
        "    else:\n",
        "        incorr.append(i)\n",
        "        incorr_count+=1\n",
        "        \n",
        "print(\"%d Images are identified correctly\" %(corr_count))\n",
        "print(\"%d Images are identified incorrectly\" %(incorr_count))"
      ],
      "execution_count": 15,
      "outputs": [
        {
          "output_type": "stream",
          "text": [
            "50 Images are identified correctly\n",
            "974 Images are identified incorrectly\n"
          ],
          "name": "stdout"
        }
      ]
    },
    {
      "cell_type": "code",
      "metadata": {
        "id": "dB17yBMkckpQ",
        "outputId": "ed164334-da66-4815-af23-1b8f0d351443",
        "colab": {
          "base_uri": "https://localhost:8080/",
          "height": 540
        }
      },
      "source": [
        "# Let's visualize test prediction.\n",
        "\n",
        "y_pred = model.predict(x_test)\n",
        "\n",
        "# plot a random sample of test images, their predicted labels, and ground truth\n",
        "fig = plt.figure(figsize=(16, 9))\n",
        "for i, idx in enumerate(np.random.choice(x_test.shape[0], size=16, replace=False)):\n",
        "    ax = fig.add_subplot(4, 4, i + 1, xticks=[], yticks=[])\n",
        "    ax.imshow(np.squeeze(x_test[idx]))\n",
        "    pred_idx = np.argmax(y_pred[idx])\n",
        "    true_idx = np.argmax(y_test[idx])\n",
        "    ax.set_title(\"{} ({})\".format(target_labels[pred_idx], target_labels[true_idx]),\n",
        "                 color=(\"green\" if pred_idx == true_idx else \"red\"))"
      ],
      "execution_count": 16,
      "outputs": [
        {
          "output_type": "display_data",
          "data": {
            "image/png": "[encoded data removed]",
            "text/plain": [
              "<Figure size 1152x648 with 16 Axes>"
            ]
          },
          "metadata": {
            "tags": []
          }
        }
      ]
    },
    {
      "cell_type": "code",
      "metadata": {
        "id": "mbdG2uUqBFZy",
        "outputId": "07119776-92bc-4595-e3bc-af64160df1ba",
        "colab": {
          "base_uri": "https://localhost:8080/",
          "height": 545
        }
      },
      "source": [
        "import matplotlib.pyplot as plt\n",
        "acc = model_dropout.history['accuracy']\n",
        "val_acc = model_dropout.history['val_accuracy']\n",
        "loss = model_dropout.history['loss']\n",
        "val_loss = model_dropout.history['val_loss']\n",
        "\n",
        "epochs = range(len(acc))\n",
        "\n",
        "plt.plot(epochs, acc)\n",
        "plt.plot(epochs, val_acc)\n",
        "plt.legend(['acc', 'val_acc'], loc='lower right')  \n",
        "plt.title('Training and validation accuracy')\n",
        "\n",
        "\n",
        "plt.figure()\n",
        "plt.plot(epochs, loss)\n",
        "plt.plot(epochs, val_loss)\n",
        "plt.legend(['loss', 'val_loss'], loc='upper right')  \n",
        "plt.title('Training and validation loss')\n",
        "\n",
        "plt.show()"
      ],
      "execution_count": 17,
      "outputs": [
        {
          "output_type": "display_data",
          "data": {
            "image/png": "[encoded data removed]",
            "text/plain": [
              "<Figure size 432x288 with 1 Axes>"
            ]
          },
          "metadata": {
            "tags": [],
            "needs_background": "light"
          }
        },
        {
          "output_type": "display_data",
          "data": {
            "image/png": "[encoded data removed]",
            "text/plain": [
              "<Figure size 432x288 with 1 Axes>"
            ]
          },
          "metadata": {
            "tags": [],
            "needs_background": "light"
          }
        }
      ]
    }
  ]
}